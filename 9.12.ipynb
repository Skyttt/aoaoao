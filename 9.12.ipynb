{
 "cells": [
  {
   "cell_type": "markdown",
   "metadata": {},
   "source": [
    "# 选择\n",
    "## 布尔类型、数值和表达式\n",
    "![](../Photo/33.png)\n",
    "- 注意：比较运算符的相等是两个等号，一个等到代表赋值\n",
    "- 在Python中可以用整型0来代表False，其他数字来代表True\n",
    "- 后面还会讲到 is 在判断语句中的用发\n",
    "- false = 0 true = 1"
   ]
  },
  {
   "cell_type": "markdown",
   "metadata": {},
   "source": [
    "## 字符串的比较使用ASCII值"
   ]
  },
  {
   "cell_type": "code",
   "execution_count": 2,
   "metadata": {},
   "outputs": [
    {
     "name": "stdout",
     "output_type": "stream",
     "text": [
      "输入分数88\n",
      "B\n"
     ]
    }
   ],
   "source": [
    "fen = eval(input('输入分数'))\n",
    "if fen>=90:\n",
    "    print('A')\n",
    "if 80<fen<90:\n",
    "    print('B')\n",
    "else:\n",
    "    print('C')"
   ]
  },
  {
   "cell_type": "markdown",
   "metadata": {},
   "source": [
    "## Markdown \n",
    "- https://github.com/younghz/Markdown"
   ]
  },
  {
   "cell_type": "markdown",
   "metadata": {},
   "source": [
    "## EP:\n",
    "- <img src=\"../Photo/34.png\"></img>\n",
    "- 输入一个数字，判断其实奇数还是偶数"
   ]
  },
  {
   "cell_type": "markdown",
   "metadata": {},
   "source": [
    "## 产生随机数字\n",
    "- 函数random.randint(a,b) 可以用来产生一个a和b之间且包括a和b的随机整数"
   ]
  },
  {
   "cell_type": "code",
   "execution_count": 18,
   "metadata": {},
   "outputs": [
    {
     "name": "stdout",
     "output_type": "stream",
     "text": [
      "5\n",
      "太小了\n",
      "6\n",
      "太小了\n",
      "7\n",
      "太小了\n",
      "8\n",
      "正确\n"
     ]
    }
   ],
   "source": [
    "import random\n",
    "random_num=random.randint(3,8)\n",
    "\n",
    "while True: \n",
    "    input_num =eval(input('<<'))\n",
    "    if input_num==random_num:\n",
    "        print('正确')\n",
    "        break\n",
    "    if input_num>random_num:\n",
    "        print('太大了')\n",
    "    else:\n",
    "        print('太小了')"
   ]
  },
  {
   "cell_type": "markdown",
   "metadata": {},
   "source": [
    "##  其他random方法\n",
    "- random.random 返回0.0到1.0之间前闭后开区间的随机浮点\n",
    "- random.randrange(a,b) 前闭后开\n",
    "- 三个数，最后一个为步长"
   ]
  },
  {
   "cell_type": "code",
   "execution_count": 30,
   "metadata": {},
   "outputs": [
    {
     "data": {
      "text/plain": [
       "6"
      ]
     },
     "execution_count": 30,
     "metadata": {},
     "output_type": "execute_result"
    }
   ],
   "source": [
    "random.randrange(2,10,2)"
   ]
  },
  {
   "cell_type": "markdown",
   "metadata": {},
   "source": [
    "## EP：\n",
    "- 产生两个随机整数number1和number2，然后显示给用户，使用户输入数字的和，并判定其是否正确\n",
    "- 进阶:写一个随机序号点名程序"
   ]
  },
  {
   "cell_type": "code",
   "execution_count": 1,
   "metadata": {},
   "outputs": [
    {
     "name": "stdout",
     "output_type": "stream",
     "text": [
      "55 + 79\n",
      "<<44\n",
      "错误 正确值为：134\n"
     ]
    }
   ],
   "source": [
    "import random\n",
    "number1=random.randint(0,100)\n",
    "number2=random.randint(0,100)\n",
    "print(str(number1)+' + '+str(number2))\n",
    "input_num =eval(input('<<'))\n",
    "he=number1+number2\n",
    "if input_num==he:\n",
    "    print('正确')\n",
    "else:\n",
    "    print('错误'+' '+'正确值为：'+str(he))"
   ]
  },
  {
   "cell_type": "markdown",
   "metadata": {},
   "source": [
    "## if语句\n",
    "- 如果条件正确就执行一个单向if语句，亦即当条件为真的时候才执行if内部的语句\n",
    "- Python有很多选择语句:\n",
    "> - 单向if \n",
    "  - 双向if-else\n",
    "  - 嵌套if\n",
    "  - 多向if-elif-else\n",
    "  \n",
    "- 注意：当语句含有子语句的时候，那么一定至少要有一个缩进，也就是说如果有儿子存在，那么一定要缩进\n",
    "- 切记不可tab键和space混用，单用tab 或者 space\n",
    "- 当你输出的结果是无论if是否为真时都需要显示时，语句应该与if对齐"
   ]
  },
  {
   "cell_type": "code",
   "execution_count": 7,
   "metadata": {},
   "outputs": [
    {
     "name": "stdout",
     "output_type": "stream",
     "text": [
      "输入年龄25\n",
      "输入长相好\n",
      "输入收入高\n",
      "职业公务员\n",
      "见\n"
     ]
    }
   ],
   "source": [
    "nl = eval(input('输入年龄'))\n",
    "if nl<=30:\n",
    "    zx = str(input('输入长相'))\n",
    "    if zx == '好':\n",
    "        sr = str(input('输入收入'))\n",
    "        if sr == '高':\n",
    "            gwy = str(input('职业'))\n",
    "            if gwy == '公务员':\n",
    "                print('见')\n",
    "            else:\n",
    "                print('不是公务员')\n",
    "        else:\n",
    "            print('收入低')\n",
    "    else:\n",
    "        print('长得丑')\n",
    "else:\n",
    "    print('年龄大')"
   ]
  },
  {
   "cell_type": "markdown",
   "metadata": {},
   "source": [
    "## EP：\n",
    "- 用户输入一个数字，判断其实奇数还是偶数\n",
    "- 进阶：可以查看下4.5实例研究猜生日"
   ]
  },
  {
   "cell_type": "markdown",
   "metadata": {},
   "source": [
    "## 双向if-else 语句\n",
    "- 如果条件为真，那么走if内部语句，否则走else内部语句"
   ]
  },
  {
   "cell_type": "markdown",
   "metadata": {},
   "source": [
    "## EP：\n",
    "- 产生两个随机整数number1和number2，然后显示给用户，使用户输入数字，并判定其是否正确,如果正确打印“you‘re correct”，否则打印正确错误"
   ]
  },
  {
   "cell_type": "markdown",
   "metadata": {},
   "source": [
    "## 嵌套if 和多向if-elif-else\n",
    "![](../Photo/35.png)"
   ]
  },
  {
   "cell_type": "markdown",
   "metadata": {},
   "source": [
    "## EP：\n",
    "- 提示用户输入一个年份，然后显示表示这一年的动物\n",
    "![](../Photo/36.png)\n",
    "- 计算身体质量指数的程序\n",
    "- BMI = 以千克为单位的体重除以以米为单位的身高\n",
    "![](../Photo/37.png)"
   ]
  },
  {
   "cell_type": "code",
   "execution_count": 18,
   "metadata": {},
   "outputs": [
    {
     "name": "stdout",
     "output_type": "stream",
     "text": [
      "输入年份1996\n",
      "鼠\n"
     ]
    }
   ],
   "source": [
    "year = eval(input('输入年份'))\n",
    "if year % 12 == 0:\n",
    "    print('猴')\n",
    "if year % 12 == 1:\n",
    "    print('鸡')\n",
    "if year % 12 == 2:\n",
    "    print('狗')\n",
    "if year % 12 == 3:\n",
    "    print('猪')\n",
    "if year % 12 == 4:\n",
    "    print('鼠')\n",
    "if year % 12 == 5:\n",
    "    print('牛')\n",
    "if year % 12 == 6:\n",
    "    print('虎')\n",
    "if year % 12 == 7:\n",
    "    print('兔')\n",
    "if year % 12 == 8:\n",
    "    print('龙')\n",
    "if year % 12 == 9:\n",
    "    print('蛇')\n",
    "if year % 12 == 10:\n",
    "    print('马')\n",
    "if year % 12 == 11:\n",
    "    print('羊')"
   ]
  },
  {
   "cell_type": "code",
   "execution_count": 19,
   "metadata": {},
   "outputs": [
    {
     "name": "stdout",
     "output_type": "stream",
     "text": [
      "输入体重（KG），身高（M）60,1.7\n",
      "20.761245674740486\n"
     ]
    }
   ],
   "source": [
    "kg,m = eval(input('输入体重（KG），身高（M）'))\n",
    "BMI=kg/(m*m)\n",
    "print(BMI)"
   ]
  },
  {
   "cell_type": "markdown",
   "metadata": {},
   "source": [
    "## 逻辑运算符\n",
    "![](../Photo/38.png)"
   ]
  },
  {
   "cell_type": "markdown",
   "metadata": {},
   "source": [
    "![](../Photo/39.png)\n",
    "![](../Photo/40.png)"
   ]
  },
  {
   "cell_type": "markdown",
   "metadata": {},
   "source": [
    "## EP：\n",
    "- 判定闰年：一个年份如果能被4整除但不能被100整除，或者能被400整除，那么这个年份就是闰年\n",
    "- 提示用户输入一个年份，并返回是否是闰年\n",
    "- 提示用户输入一个数字，判断其是否为水仙花数"
   ]
  },
  {
   "cell_type": "code",
   "execution_count": 24,
   "metadata": {},
   "outputs": [
    {
     "name": "stdout",
     "output_type": "stream",
     "text": [
      "输入年份2016\n",
      "闰年\n"
     ]
    }
   ],
   "source": [
    "year = eval(input('输入年份'))\n",
    "if year%4 == 0 and year%100 != 0 or year % 400 ==0:\n",
    "    print('闰年')\n",
    "else:\n",
    "    print('平年')"
   ]
  },
  {
   "cell_type": "code",
   "execution_count": 30,
   "metadata": {},
   "outputs": [
    {
     "name": "stdout",
     "output_type": "stream",
     "text": [
      "输入一个三位数153\n",
      "是水仙花数\n"
     ]
    }
   ],
   "source": [
    "shu = eval(input('输入一个三位数'))\n",
    "i=shu//100    \n",
    "j=shu//10%10  \n",
    "k=shu%10  \n",
    "shu1=i*i*i+j*j*j+k*k*k\n",
    "if shu==shu1:\n",
    "    print('是水仙花数')\n",
    "else:\n",
    "    print('不是水仙花数')"
   ]
  },
  {
   "cell_type": "markdown",
   "metadata": {},
   "source": [
    "## 实例研究：彩票\n",
    "![](../Photo/41.png)"
   ]
  },
  {
   "cell_type": "code",
   "execution_count": 14,
   "metadata": {},
   "outputs": [
    {
     "name": "stdout",
     "output_type": "stream",
     "text": [
      "34\n",
      "输入一个两位数32\n",
      "三等奖\n"
     ]
    }
   ],
   "source": [
    "import random\n",
    "random_num=random.randint(1,99)\n",
    "print(random_num)\n",
    "shu = eval(input('输入一个两位数'))\n",
    "a=shu//10      \n",
    "b=shu%10\n",
    "c=random_num//10\n",
    "d=random_num%10\n",
    "if a==c and b==d:\n",
    "    print('一等奖')\n",
    "elif a==d and b==c:\n",
    "    print('二等奖')\n",
    "elif a==c or b==d or a==d or b==c:\n",
    "    print('三等奖')\n",
    "else:\n",
    "    print('未中奖')"
   ]
  },
  {
   "cell_type": "markdown",
   "metadata": {},
   "source": [
    "# Homework\n",
    "- 1\n",
    "![](../Photo/42.png)"
   ]
  },
  {
   "cell_type": "code",
   "execution_count": 29,
   "metadata": {},
   "outputs": [
    {
     "name": "stdout",
     "output_type": "stream",
     "text": [
      "输入a,b,c1,3,1\n",
      "-0.3819660112501051 and -2.618033988749895\n"
     ]
    }
   ],
   "source": [
    "import math\n",
    "a,b,c = eval(input('输入a,b,c'))\n",
    "dr=(b * b) - (4 * a * c)\n",
    "if dr>0:\n",
    "    r1=(-b+math.sqrt(dr))/(2*a)\n",
    "    r2=(-b-math.sqrt(dr))/(2*a)\n",
    "    print(str(r1)+' and '+str(r2))\n",
    "elif dr==0:\n",
    "    r1=(-b+math.sqrt(dr))/(2*a)\n",
    "    r2=(-b-math.sqrt(dr))/(2*a)\n",
    "    print(str(r1))\n",
    "elif dr<0:\n",
    "    print('The equation has no real roots')"
   ]
  },
  {
   "cell_type": "markdown",
   "metadata": {},
   "source": [
    "- 2\n",
    "![](../Photo/43.png)"
   ]
  },
  {
   "cell_type": "code",
   "execution_count": 5,
   "metadata": {},
   "outputs": [
    {
     "name": "stdout",
     "output_type": "stream",
     "text": [
      "62 + 34\n",
      "输入两个数的和：111\n",
      "错误 正确值为：96\n"
     ]
    }
   ],
   "source": [
    "import random\n",
    "number1=random.randint(0,100)\n",
    "number2=random.randint(0,100)\n",
    "print(str(number1)+' + '+str(number2))\n",
    "input_num =eval(input('输入两个数的和：'))\n",
    "he=number1+number2\n",
    "if input_num==he:\n",
    "    print('正确')\n",
    "else:\n",
    "    print('错误'+' '+'正确值为：'+str(he))"
   ]
  },
  {
   "cell_type": "markdown",
   "metadata": {},
   "source": [
    "- 3\n",
    "![](../Photo/44.png)"
   ]
  },
  {
   "cell_type": "code",
   "execution_count": 21,
   "metadata": {},
   "outputs": [
    {
     "name": "stdout",
     "output_type": "stream",
     "text": [
      "输入星期0\n",
      "输入天数31\n",
      "0在31天之后是3\n"
     ]
    }
   ],
   "source": [
    "weekend=eval(input(\"输入星期\"))\n",
    "day=eval(input(\"输入天数\"))\n",
    "res=(weekend+day)%7\n",
    "# Sunday=0\n",
    "# Monday=1\n",
    "# Tuesday=2\n",
    "# Wednesday=3\n",
    "# Thursday=4\n",
    "# Friday=5\n",
    "# Saturday=6\n",
    "print(str(weekend)+\"在\"+str(day)+\"天之后是\"+str(res))"
   ]
  },
  {
   "cell_type": "markdown",
   "metadata": {},
   "source": [
    "- 4\n",
    "![](../Photo/45.png)"
   ]
  },
  {
   "cell_type": "code",
   "execution_count": 3,
   "metadata": {},
   "outputs": [
    {
     "name": "stdout",
     "output_type": "stream",
     "text": [
      "输入三个整数10,8,12\n",
      "8 10 12\n"
     ]
    }
   ],
   "source": [
    "x1,x2,x3=eval(input(\"输入三个整数\"))\n",
    "if x1>x2:\n",
    "    t=x2\n",
    "    x2=x1\n",
    "    x1=t\n",
    "elif x2>x3:\n",
    "    t=x3\n",
    "    x3=x2\n",
    "    x2=t\n",
    "elif x1>x3:\n",
    "    t=x3\n",
    "    x3=x1\n",
    "    x1=t\n",
    "print(str(x1),str(x2),str(x3))"
   ]
  },
  {
   "cell_type": "markdown",
   "metadata": {},
   "source": [
    "- 5\n",
    "![](../Photo/46.png)"
   ]
  },
  {
   "cell_type": "code",
   "execution_count": 7,
   "metadata": {},
   "outputs": [
    {
     "name": "stdout",
     "output_type": "stream",
     "text": [
      "输入重量和价钱50,24.59\n",
      "输入重量和价钱25,11.99\n",
      "Package 2 has the better price\n"
     ]
    }
   ],
   "source": [
    "weight1,price1=eval(input(\"输入重量和价钱\"))\n",
    "weight2,price2=eval(input(\"输入重量和价钱\"))\n",
    "pj1=price1/weight1\n",
    "pj2=price2/weight2\n",
    "if pj1>pj2:\n",
    "    print('Package 2 has the better price')\n",
    "if pj1<pj2:\n",
    "    print('Package 1 has the better price')"
   ]
  },
  {
   "cell_type": "markdown",
   "metadata": {},
   "source": [
    "- 6\n",
    "![](../Photo/47.png)"
   ]
  },
  {
   "cell_type": "code",
   "execution_count": 12,
   "metadata": {},
   "outputs": [
    {
     "name": "stdout",
     "output_type": "stream",
     "text": [
      "输入年份和月2005,3\n",
      "2005年的3月有31天\n"
     ]
    }
   ],
   "source": [
    "year,month = eval(input('输入年份和月'))\n",
    "if month in (1,3,5,7,8,10,12):\n",
    "    day=31\n",
    "elif month==2:\n",
    "    if year%4 == 0 and year%100 != 0 or year % 400 ==0:\n",
    "        day=29\n",
    "    else:\n",
    "        day=28\n",
    "else:\n",
    "    day=30 \n",
    "print(str(year)+'年的'+str(month)+'月有'+str(day)+'天')"
   ]
  },
  {
   "cell_type": "markdown",
   "metadata": {},
   "source": [
    "- 7\n",
    "![](../Photo/48.png)"
   ]
  },
  {
   "cell_type": "code",
   "execution_count": 5,
   "metadata": {},
   "outputs": [
    {
     "name": "stdout",
     "output_type": "stream",
     "text": [
      "0\n",
      "输入一个猜测值（0/1）0\n",
      "正确\n"
     ]
    }
   ],
   "source": [
    "import random\n",
    "random_num=random.randint(0,1)\n",
    "print(random_num)\n",
    "shu = eval(input('输入一个猜测值（0/1）'))\n",
    "if shu==random_num:\n",
    "    print('正确')\n",
    "else:\n",
    "    print('错误')"
   ]
  },
  {
   "cell_type": "markdown",
   "metadata": {},
   "source": [
    "- 8\n",
    "![](../Photo/49.png)"
   ]
  },
  {
   "cell_type": "code",
   "execution_count": 6,
   "metadata": {},
   "outputs": [
    {
     "name": "stdout",
     "output_type": "stream",
     "text": [
      "0\n",
      "输入一个数（0,1,2）：2\n",
      "你输了\n"
     ]
    }
   ],
   "source": [
    "import random\n",
    "shu = random.randint(0,2)\n",
    "print(shu)\n",
    "num = eval(input('输入一个数（0,1,2）：'))\n",
    "if (num-shu==1)or(num==0and(shu==2)):\n",
    "    print('你赢了')\n",
    "elif (shu-num==1)or(num==2and(shu==0)):\n",
    "    print('你输了')\n",
    "else:\n",
    "    print('平局')"
   ]
  },
  {
   "cell_type": "markdown",
   "metadata": {},
   "source": [
    "- 9\n",
    "![](../Photo/50.png)"
   ]
  },
  {
   "cell_type": "code",
   "execution_count": null,
   "metadata": {},
   "outputs": [],
   "source": [
    "year = eval(input('输入年份'))\n",
    "month = eval(input('输入月份'))\n",
    "day = eval(input('输入天（1-31）'))\n",
    "k=year%100\n",
    "j=year//100//1\n",
    "h=( day + ( 26 * ( month + 1 ) / 10 )//1+ k +( k/4)//1 + (j/4)//1 + (5*j)) % 7\n",
    "if h == 0:\n",
    "    a = \"星期六\"\n",
    "print('Day of the week is '+ a)"
   ]
  },
  {
   "cell_type": "markdown",
   "metadata": {},
   "source": [
    "- 10\n",
    "![](../Photo/51.png)"
   ]
  },
  {
   "cell_type": "code",
   "execution_count": 3,
   "metadata": {},
   "outputs": [
    {
     "name": "stdout",
     "output_type": "stream",
     "text": [
      "黑桃Jack\n"
     ]
    }
   ],
   "source": [
    "import random\n",
    "A=['Ace',2,3,4,5,6,7,8,9,10,'Jack','Queen','King']\n",
    "ran=random.randint(0,len(A)-1)\n",
    "B=['梅花','红桃','方块','黑桃']\n",
    "can=random.randint(0,len(B)-1)\n",
    "print(str(B[can])+str(A[ran]))"
   ]
  },
  {
   "cell_type": "markdown",
   "metadata": {},
   "source": [
    "- 11\n",
    "![](../Photo/52.png)"
   ]
  },
  {
   "cell_type": "code",
   "execution_count": 4,
   "metadata": {},
   "outputs": [
    {
     "name": "stdout",
     "output_type": "stream",
     "text": [
      "输入一个三位数121\n",
      "是回文\n"
     ]
    }
   ],
   "source": [
    "number = eval(input('输入一个三位数'))\n",
    "a= number // 100\n",
    "b= number // 10 %10\n",
    "c= number % 10\n",
    "if a==c:\n",
    "    print('是回文')\n",
    "else:\n",
    "    print('不是回文')"
   ]
  },
  {
   "cell_type": "markdown",
   "metadata": {},
   "source": [
    "- 12\n",
    "![](../Photo/53.png)"
   ]
  },
  {
   "cell_type": "code",
   "execution_count": 18,
   "metadata": {},
   "outputs": [
    {
     "name": "stdout",
     "output_type": "stream",
     "text": [
      "输入三角形三边1,2,3\n",
      "边数不合法\n"
     ]
    }
   ],
   "source": [
    "x1,x2,x3 = eval(input('输入三角形三边'))\n",
    "x=x1+x2+x3\n",
    "if x1+x2 > x3:\n",
    "    print('三角形周长为：'+ str(x))\n",
    "else:\n",
    "    print('边数不合法')"
   ]
  }
 ],
 "metadata": {
  "kernelspec": {
   "display_name": "Python 3",
   "language": "python",
   "name": "python3"
  },
  "language_info": {
   "codemirror_mode": {
    "name": "ipython",
    "version": 3
   },
   "file_extension": ".py",
   "mimetype": "text/x-python",
   "name": "python",
   "nbconvert_exporter": "python",
   "pygments_lexer": "ipython3",
   "version": "3.6.4"
  }
 },
 "nbformat": 4,
 "nbformat_minor": 2
}
